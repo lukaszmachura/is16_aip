{
 "cells": [
  {
   "cell_type": "markdown",
   "metadata": {},
   "source": [
    "# Praca domowa 05 [60 punktów]\n",
    "\n",
    "Za każde zadanie domowe można uzyskać X punktów. W przypadku rozwiązania problemów nadprogramowych, o których nie mówiliśmy na zajęciach a ja ich Państwu nie tłumaczę tutaj można uzyskać punkty dodatkowe.\n",
    "\n",
    "> __Uwaga__:\n",
    "\n",
    "> - odejmuję 1 punkt za brak każdego docstring-a (maksymalnie odejmuję 3 punkty)\n",
    "\n",
    "> - odejmuję 1 punkt za brak testów do zadania (maksymalnie odejmuję 3 punkty)\n",
    "\n",
    "> - maksymalnie odejmuję 3 punkty za niestosowanie się do reguł PEP8\n"
   ]
  },
  {
   "cell_type": "code",
   "execution_count": null,
   "metadata": {
    "collapsed": true
   },
   "outputs": [],
   "source": []
  },
  {
   "cell_type": "markdown",
   "metadata": {},
   "source": [
    "## Zadanie PD0501 [20 pkt]: Tablica z haszowaniem: metoda łańcuchowa\n",
    "\n",
    "Na bazie klasy, którą projektowaliśmy na zajęciach proszę zbudować klasę `TablicaHaszujaca` o nastepujących własnościach:\n",
    "\n",
    "* do rozwiązywania kolizji użyć metody łańcuchowej\n",
    "* zaproponować minimum 2 funkcje haszujące - jedną z nich powinno być haszowanie modularne, drugą muszą wymyślić Państwo sami; jedną z nich należy ustawić jako domyślną (podczas instancjonowania)\n",
    "* kluczami będą tylko liczby INT (jak np: PESEL)\n",
    "* INSERT: bazując na tym proszę zoptymalizować umieszczanie poszczególnych par (klucz, wartość) w odpowiednim łańcuchu tak, aby wpisy były posortowane rosnąco ze względu na wartość klucza (binarnie)\n",
    "* SEARCH: w łańcuchach użyć wyszukiwania binarnego\n",
    "\n",
    "Klasę proszę przetestować porządnie (co np: z ujemnymi kluczami?). Proszę też pomyśleć nad złożonością obliczeniową metod INSERT, SEARCH, DELETE. Podpowiedzi znajdziecie w Cormenie."
   ]
  },
  {
   "cell_type": "code",
   "execution_count": 2,
   "metadata": {
    "collapsed": true
   },
   "outputs": [],
   "source": [
    "class TablicaHaszujaca:\n",
    "    \"\"\"...\"\"\""
   ]
  },
  {
   "cell_type": "markdown",
   "metadata": {},
   "source": [
    "## Zadanie PD0502 [20 pkt]: Dokument html dokumentacji obiektów\n",
    "\n",
    "Zaprogramuj klasę `HtmlObject` jako podklasę klasy `object`, która implementuje (min) dwie metody:\n",
    "\n",
    "* `html()`: metoda ta powinna zwracać string zawierający informacje o stanie obiektu, tj. lista pól wraz z aktualnymi typami tych pól i wartościami. String powinien być w formacie html (wystarczy prosty wariant html);\n",
    "\n",
    "* `html_page()`: metoda ta powinna zwrócić pełną stronę html (z koniecznymi znacznikami, wraz z `head` czy `body`) wraz ze stanem obiektu oraz ze stanem wszystkich obiektów wskazywanych przez pola obiektu, o ile dany obiekt implementuje metodę html().\n",
    "\n",
    "Zaprogramuj jakąś prostą podklasę `HtmlObject` i sprawdź działanie metody `html()`."
   ]
  },
  {
   "cell_type": "code",
   "execution_count": 3,
   "metadata": {
    "collapsed": true
   },
   "outputs": [],
   "source": [
    "#"
   ]
  },
  {
   "cell_type": "markdown",
   "metadata": {},
   "source": [
    "## Zadanie PD0503 [30 pkt]: wyrażenia listowe (listy składane) vs funkcje redukcyjne\n",
    "\n",
    "Poniższe zadania polegają na implementacji funkcji zwracających listy liczb naturalnych. Każde z zadań należy wykonać w dwóch wersjach: w wersji z wyrażeniem listowym (listą składaną) i wersję funkcyjną.\n",
    "\n",
    "Wersja z listą składaną powinna być w postaci jednej listy składanej, zawierającej być może inną listę składaną. W przypadku bardzo długich wyrażeń akceptowane będzie wydzielenie podlisty składanej.\n",
    "\n",
    "\n",
    "    def zadana_funkcja(n):\n",
    "        lista_tymcz = [ lista skladana ]\n",
    "        return [ lista_składana_zawierająca lista_tymcz ]\n",
    "\n",
    "Implementacja funkcyjna powinna korzystać z funkcji dedykowanych do operacji na listach: filter, map, reduce, all...\n",
    "\n",
    "**Zbadaj, która wersja jest szybsza [2 pkt / podpunkt]**\n",
    "\n",
    "__Uwaga__:\n",
    "Do zaprogramowania powyższych zadań wystarczą standardowe funkcje i operatory, nie ma potrzeby korzystania z dodatkowych modułów.\n",
    "\n",
    "### Zadanie PD0503a [10 pkt]\n",
    "Zaprogramuj jednoargumentowe funkcje ``pierwsze_skladana(n)`` i ``pierwsze_funkcyjna(n)``, które zwracają listę liczb pierwszych nie większych niż n, na przykład\n",
    "\n",
    "    >>> pierwsze(20)\n",
    "    [2, 3, 5, 7, 11, 13, 17, 19]\n",
    "\n",
    "### Zadanie PD0503b [10 pkt]\n",
    "Zaprogramuj jednoargumentowe funkcje ``doskonale_skladana(n)`` i ``doskonale_funkcyjna(n)``, które zwracają listę liczb doskonałych nie większych niż n, na przykład\n",
    "\n",
    "    >>> doskonale(1000)\n",
    "    [6, 28, 496, 8128]\n",
    "\n",
    "### Zadanie PD0503c [10 pkt]\n",
    "Zaprogramuj jednoargumentowe funkcję ``rozklad_skladana(n)`` i ``rozklad_funkcyjna(n)`` które obliczają rozkład liczby n na czynniki pierwsze i zwracają jako wynik listę par $[(p_1, w_1),(p_2, w_2), \\dots ,(p_k, w_k)]$ taką, że\n",
    "\n",
    "$$n = p_1^{w_1} p_2^{w_2} \\dots p_k^{w_k}$$\n",
    "\n",
    "oraz $p_1, \\dots , p_k$ są różnymi liczbami pierwszymi. Na przykład\n",
    "\n",
    "    >>> rozklad(756)\n",
    "    [(2, 2), (3, 3), (7, 1)]\n",
    "\n",
    "Ponieważ w tym zadaniu może być potrzebna lista liczb pierwszych, można zaimplementować pomocniczą funkcję sprawdzającą pierwszość liczby bądź zwracającą listę liczb pierwszych. W przypadku tej funkcji pomocniczej implementacja może być dowolna."
   ]
  },
  {
   "cell_type": "code",
   "execution_count": null,
   "metadata": {
    "collapsed": true
   },
   "outputs": [],
   "source": []
  }
 ],
 "metadata": {
  "kernelspec": {
   "display_name": "Python 2",
   "language": "python",
   "name": "python2"
  },
  "language_info": {
   "codemirror_mode": {
    "name": "ipython",
    "version": 2
   },
   "file_extension": ".py",
   "mimetype": "text/x-python",
   "name": "python",
   "nbconvert_exporter": "python",
   "pygments_lexer": "ipython2",
   "version": "2.7.12"
  }
 },
 "nbformat": 4,
 "nbformat_minor": 1
}
