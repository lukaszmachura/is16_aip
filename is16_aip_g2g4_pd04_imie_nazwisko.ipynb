{
 "cells": [
  {
   "cell_type": "markdown",
   "metadata": {},
   "source": [
    "Jako, że w święta mają Państwo nadmiar czasu wolnego...\n",
    "\n",
    "# Praca domowa 04 [50 punktów]\n",
    "\n",
    "Za każde zadanie domowe można uzyskać X punktów. W przypadku rozwiązania problemów nadprogramowych, o których nie mówiliśmy na zajęciach a ja ich Państwu nie tłumaczę tutaj można uzyskać punkty dodatkowe.\n",
    "\n",
    "> __Uwaga__:\n",
    "\n",
    "> - odejmuję 1 punkt za brak każdego docstring-a (maksymalnie odejmuję 3 punkty)\n",
    "\n",
    "> - odejmuję 1 punkt za brak testów do zadania (maksymalnie odejmuję 3 punkty)\n",
    "\n",
    "> - maksymalnie odejmuję 3 punkty za niestosowanie się do reguł PEP8\n",
    "\n",
    "\n",
    "## Programowanie zorientowane obiektowo, część 3: dziedziczenie i polimorfizm\n",
    "\n",
    "## Zadanie PD0401 [30 pkt]: Figura Płaska\n",
    "\n",
    "Powtórka z zajęć, choć nie do końca... Podobnie jak tłumaczyłem na sam koniec zajęć proszę zaprojektować oraz zaprogramować hierarchię klas dla figur płaskich. Abstrakcyjną klasą powinna być klasa `FiguraPlaska`. Z niej to dziedziczyć powinny klasy\n",
    "\n",
    "* wielokąt\n",
    "\n",
    "    * wielokąt foremny: trójkąt równoboczny, kwadrat, pięciokąt foremny, sześciokąt foremny, \n",
    "      siedmiokąt foremny, ośmiokąt foremny, dziewięciokąt foremny, dziesięciokąt foremny, szesnastokąt foremny\n",
    "\n",
    "    * czworokąt: trapez, deltoid, równoległobok, prostokąt, kwadrat, romb\n",
    "\n",
    "    * trójkąt:  trójkąt różnoboczny, trójkąt prostokątny, trójkąt równoboczny, trójkąt równoramienny,\n",
    "    \n",
    "* elipsa\n",
    "\n",
    "    * koło\n",
    "    \n",
    "Dla każdej z tych klas proszę zbudować (dla tych, dla których wiemy jak) pola, tam gdzie można wykorzystując dziedziczenie. Będą to albo funkcje, albo zmienne (poczytaj też o [@property](https://docs.python.org/2/library/functions.html#property))\n",
    "\n",
    "* pole\n",
    "\n",
    "* obwód\n",
    "\n",
    "* kąty wewnętrzne\n",
    "\n",
    "* przekątne (średnica, oś wielka / mała)\n",
    "\n",
    "* promień, boki (get), bok najmniejszy / największy\n",
    "\n",
    "* `__lt__`, `__eq__`, `__gt__`, `__ge__`, `__le__`\n",
    "\n",
    "* `__repr__` (lub `__str__`)\n",
    "\n",
    "* oraz dodatkowo minimalnie 3 (jeżeli tyle jest) własności danej figury płaskiej. \n",
    "  Przykładowo dla elipsy można opisać mimośrody i/lub spłaszczenia.\n",
    "\n",
    "__Uwaga 1__\n",
    "Punktacja\n",
    "\n",
    "* potomek (2 sztuki): 3 pkt\n",
    "\n",
    "* potomek potomka (3): 2 pkt\n",
    "\n",
    "* potomek potomka potomka (20): 1 pkt\n",
    "\n",
    "\n",
    "__Uwaga 2__\n",
    "Nie jest to wybitnie trudne zadanie, ale może być pracochłonne. Proszę porządnie zaprojektować hierarchię. **Jeżeli jakaś klasa potomna nie będzie posiadała powyższej funkcjonalności to nie przyznaję za nią punktów - czyli ocenianie jest na zasadzie 0/1**. Oczywiście dziedziczenie się w to wlicza - np: klasa Kwadrat nie będzie zbyt rozbudowana, a można za nią dostać 1 pkt tak samo jak za np: Trapez..."
   ]
  },
  {
   "cell_type": "code",
   "execution_count": 14,
   "metadata": {
    "collapsed": false
   },
   "outputs": [],
   "source": [
    "# zad pd0401\n",
    "class FiguraPlaska:\n",
    "    \"\"\"Abstrakcyjna klasa figur plaskich\"\"\"\n",
    "        \n",
    "    def pole(self):\n",
    "        pass\n",
    "    \n",
    "    def obwod(self):\n",
    "        pass\n",
    "    \n",
    "    def __repr__(self):\n",
    "        return \"FiguraPlaska\"\n",
    "    \n",
    "    def __str__(self):\n",
    "        return self.__repr__()\n",
    "    \n",
    "    def __lt__(self):\n",
    "        pass\n",
    "    \n",
    "    def __le__(self):\n",
    "        pass\n",
    "    \n",
    "    def __eq__(self):\n",
    "        pass\n",
    "    \n",
    "    def __ge__(self):\n",
    "        pass\n",
    "    \n",
    "    def __gt__(self):\n",
    "        pass\n"
   ]
  },
  {
   "cell_type": "code",
   "execution_count": 17,
   "metadata": {
    "collapsed": false
   },
   "outputs": [],
   "source": [
    "# testy pd0401"
   ]
  },
  {
   "cell_type": "markdown",
   "metadata": {},
   "source": [
    "## Zadanie PD0402 [20 pkt] Starwars (na życzenie)\n",
    "\n",
    "Zbuduj abstrakcyjną klasę bazową StatekKosmicznyGW. Następnie utwórz klasy dziedziczące z bazowe dla kilku (nastu?) takich maszyn ze świata Gwiezdnych Wojen. Poniżej znajdą Państwo linki z wiedzą (dogłębną) na ten temat. \n",
    "\n",
    "Minimalne wymagania:\n",
    "\n",
    "* klasy potomne: myśliwce, transportowce, statki, okręty, stacjonarne\n",
    "\n",
    "* minimum 3 podklasy powyższych klas potomnych\n",
    "\n",
    "* obowiązkowo: [gwiazda śmierci](http://www.sluisvan.net/stacja,gwiazda_smierci), [TIE](http://www.sluisvan.net/mysliwiec,tie_starfighter) oraz [X-wing](http://www.sluisvan.net/mysliwiec,x-wing)\n",
    "\n",
    "__źródło wiedzy__\n",
    "\n",
    "* http://www.sluisvan.net/\n",
    "\n",
    "* http://en.wikipedia.org/wiki/List_of_Star_Wars_spacecraft\n",
    "\n",
    "* http://starwars.wikia.com/wiki/Category:Shuttles\n",
    "\n",
    "* http://www.starwars.com/databank -> vehicles\n"
   ]
  },
  {
   "cell_type": "code",
   "execution_count": 18,
   "metadata": {
    "collapsed": true
   },
   "outputs": [],
   "source": [
    "# zad pd0402"
   ]
  },
  {
   "cell_type": "code",
   "execution_count": null,
   "metadata": {
    "collapsed": true
   },
   "outputs": [],
   "source": []
  }
 ],
 "metadata": {
  "kernelspec": {
   "display_name": "Python 2",
   "language": "python",
   "name": "python2"
  },
  "language_info": {
   "codemirror_mode": {
    "name": "ipython",
    "version": 2
   },
   "file_extension": ".py",
   "mimetype": "text/x-python",
   "name": "python",
   "nbconvert_exporter": "python",
   "pygments_lexer": "ipython2",
   "version": "2.7.12"
  }
 },
 "nbformat": 4,
 "nbformat_minor": 1
}
