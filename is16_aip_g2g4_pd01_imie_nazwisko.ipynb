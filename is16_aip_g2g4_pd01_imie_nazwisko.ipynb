{
 "cells": [
  {
   "cell_type": "markdown",
   "metadata": {},
   "source": [
    "# Praca domowa 01 [50 punktów]\n",
    "\n",
    "Za każde zadanie domowe można uzyskać X punktów. W przypadku rozwiązania problemów nadprogramowych, o których nie mówiliśmy na zajęciach a ja ich Państwu nie tłumaczę tutaj można uzyskać punkty dodatkowe.\n",
    "\n",
    "## Zadanie PD0101 [13 pkt]\n",
    "### Koszt programu\n",
    "\n",
    "Jest to powtórka z lekcji. Zadanie podzielone jest na kilka podpunktów. W pierwszym należy napisać 3 programy. W drugim przetestować je. Następnie obliczyć czas ich wykonania dla różnych danych wejściowych. Ostatni to narysowanie wykresów czasu wykonania w funkcji danych.\n",
    "\n",
    "Problem:\n",
    "Mamy dany ciąg liczbowy dodatnich liczb nieparzystych\n",
    "$$1, 3, 5, 7, 9, \\dots$$\n",
    "\n",
    "#### 1. Napisz programy obliczające sumę częściową podanego ciągu za pomocą \n",
    "\n",
    "  a. metody siłowej z wykorzystaniem pętli while [1 pkt]\n",
    "\n",
    "  b. metody siłowej z wykorzystaniem pętli for [1 pkt]\n",
    "\n",
    "  c. korzystając z [wzoru na sumę częściową](https://pl.wikipedia.org/wiki/Ci%C4%85g_arytmetyczny) [1 pkt]"
   ]
  },
  {
   "cell_type": "code",
   "execution_count": 1,
   "metadata": {
    "collapsed": true
   },
   "outputs": [],
   "source": [
    "def pd01_zad01_1a(N):\n",
    "    \"Suma czesciowa ciagu. Metoda silowa z petla while\"\n",
    "    # tutaj kod\n",
    "    \n",
    "    \n",
    "def pd01_zad01_1b(N):\n",
    "    \"Suma czesciowa ciagu. Metoda silowa z petla for\"\n",
    "    # tutaj kod\n",
    "    \n",
    "    \n",
    "def pd01_zad01_1c(N):\n",
    "    \"Suma czesciowa ciagu z wykorzystaniem wzoru.\"\n",
    "    # tutaj kod\n",
    "    \n",
    "    "
   ]
  },
  {
   "cell_type": "markdown",
   "metadata": {},
   "source": [
    "#### 2. Przeprowadź testy sprawdzające czy powyższe programy napisane są poprawnie [3 pkt]\n",
    "\n",
    "Poniżej znajdziecie przykład. Proszę go zrozumieć i rozszerzyć na więcej przypadków. Można też go lekko zmodyfikować tak, aby nie drukować True/False, ale proces zautomatyzować. Za proces automatyzacji możecie uzyskać [+5 pkt]."
   ]
  },
  {
   "cell_type": "code",
   "execution_count": 2,
   "metadata": {
    "collapsed": true
   },
   "outputs": [],
   "source": [
    "lN = [1, 3, 5, 10, 13, 144]\n",
    "test_suit = zip(lN, map(lambda x: x ** 2, lN))\n",
    "\n",
    "# for N, wynik in test_suit:\n",
    "#     print pd01_zad01_1a(N) == wynik"
   ]
  },
  {
   "cell_type": "markdown",
   "metadata": {},
   "source": [
    "#### 3. Oblicz czas potrzebny do wykonania powyższych programów [6 pkt]\n",
    "\n",
    "Tak naprawdę powinniśmy uruchomić każdy program kilka razy i wyliczyć średni czas uruchomienia programu. Robimy to dla konkretnego programu tak jak pokazano poniżej."
   ]
  },
  {
   "cell_type": "code",
   "execution_count": null,
   "metadata": {
    "collapsed": true
   },
   "outputs": [],
   "source": [
    "import time\n",
    "\n",
    "M = 10\n",
    "srednia = 0.0\n",
    "for run in range(M):\n",
    "    start = time.time()\n",
    "    PROGRAM(args)\n",
    "    stop = time.time()\n",
    "    srednia += stop - start\n",
    "srednia /= M"
   ]
  },
  {
   "cell_type": "markdown",
   "metadata": {},
   "source": [
    "W ten sposób w zmiennej `srednia` mamy średni czas wykonania programu `PROGRAM`. Ten średni czas należy właśnie w naszym przypadku obliczyć dla każdej wartości `N` i zmagazynować w liście wyników czasu. "
   ]
  },
  {
   "cell_type": "code",
   "execution_count": 3,
   "metadata": {
    "collapsed": true
   },
   "outputs": [],
   "source": [
    "def oblicz_sredni_czas(program, N):\n",
    "    '''...'''\n",
    "    # tutaj kod\n",
    "    \n",
    "    \n",
    "# lista wartosci N do podania do funkcji z punktu A\n",
    "lN = [i * 1000 for i in range(10, 101, 5)]\n",
    "\n",
    "# listy trzymajace srednie czasy wykonania\n",
    "lT1a, lT1b, lT1c = [], [], [] "
   ]
  },
  {
   "cell_type": "markdown",
   "metadata": {},
   "source": [
    "#### 4. Wykonaj wykres średniego czasu wykonania funkcji z punktu 1 versus N (1 pkt)\n",
    "\n",
    "Uwaga: zamiast metody `plot` możesz użyć metody `semilogy`, dzięki czemu zobaczysz wyniki w [skali logarytmicznej](https://pl.wikipedia.org/wiki/Skala_logarytmiczna)."
   ]
  },
  {
   "cell_type": "code",
   "execution_count": null,
   "metadata": {
    "collapsed": false
   },
   "outputs": [],
   "source": [
    "import matplotlib.pyplot as plt\n",
    "%matplotlib inline\n",
    "\n",
    "plt.plot(lN, lT1a, label='wersja while')\n",
    "plt.plot(lN, lT1b, label='wersja for')\n",
    "plt.plot(lN, lT1c, label='wersja z wzoru')\n",
    "plt.legend(loc='best')"
   ]
  },
  {
   "cell_type": "markdown",
   "metadata": {},
   "source": [
    "## Zadanie PD0102 (16 pkt)\n",
    "\n",
    "### Koszt programu.\n",
    "\n",
    "Tym razem mamy problem silni. \n",
    "\n",
    "* Iteracyjnie\n",
    "\n",
    "  $$n! = 1 \\cdot 2 \\cdot 3 \\cdot 4 \\dots n$$\n",
    "  \n",
    "* rekurencyjnie\n",
    "\n",
    "  $$n! = n \\cdot (n-1)! $$\n",
    "  $$(n-1)! = (n-1) \\cdot (n-2)! $$\n",
    "  $$\\dots$$\n",
    "  $$0! = 1$$\n",
    "  \n",
    "Postępujemy dokładnie tak samo jak w przypadku zadania 01. \n",
    "\n",
    "#### 1. Napisz programy rozwiązujące zagadnienie metodami [9 pkt]\n",
    "\n",
    "a. iteracyjną z while (3 pkt)\n",
    "\n",
    "b. iteracyjną z for (3 pkt)\n",
    "\n",
    "c. rekurencyjną (3 pkt)"
   ]
  },
  {
   "cell_type": "code",
   "execution_count": 5,
   "metadata": {
    "collapsed": true
   },
   "outputs": [],
   "source": [
    "# tutaj kod - obowiązkowo w postaci funkcji"
   ]
  },
  {
   "cell_type": "markdown",
   "metadata": {},
   "source": [
    "#### 2. Przeprowadź testy [3 pkt]"
   ]
  },
  {
   "cell_type": "code",
   "execution_count": 6,
   "metadata": {
    "collapsed": true
   },
   "outputs": [],
   "source": [
    "# tutaj testy"
   ]
  },
  {
   "cell_type": "markdown",
   "metadata": {},
   "source": [
    "#### 3. Oblicz czas potrzebny do wykonania powyższych programów [3 pkt]"
   ]
  },
  {
   "cell_type": "code",
   "execution_count": 7,
   "metadata": {
    "collapsed": true
   },
   "outputs": [],
   "source": [
    "# liczymy czas"
   ]
  },
  {
   "cell_type": "markdown",
   "metadata": {},
   "source": [
    "#### 4. Wykonaj wykres średniego czasu wykonania funkcji z punktu 1 versus N (1 pkt)"
   ]
  },
  {
   "cell_type": "code",
   "execution_count": 8,
   "metadata": {
    "collapsed": true
   },
   "outputs": [],
   "source": [
    "# rysujemy wykres"
   ]
  },
  {
   "cell_type": "markdown",
   "metadata": {},
   "source": [
    "## Zadanie PD0103 [13 pkt]\n",
    "### Debugowanie metodą binarną (dziel i zwyciężaj)\n",
    "\n",
    "Poniżej znajdziecie kod, który jest nieco kłopotliwy - generuje błędy. \n",
    "\n",
    "#### 1. Proszę go poprawić. (10 pkt)\n",
    "Naprawiając proszę pamiętać linie kodu, gdzie były błędy. Najlepiej nie ruszać tego kodu, ale skopiowac go poniżej i poprawiać kopię."
   ]
  },
  {
   "cell_type": "code",
   "execution_count": 9,
   "metadata": {
    "collapsed": false
   },
   "outputs": [],
   "source": [
    "def jest_pal(x):\n",
    "    \"\"\"WEJ: x - lista\n",
    "       WYJ: True jezeli x jest palindromem\n",
    "            False jezeli nie jest\"\"\"\n",
    "    assert type(x) == list\n",
    "    temp = x\n",
    "    temp.reverse\n",
    "    if temp == x:\n",
    "        return True\n",
    "    else:\n",
    "        return False\n",
    "\n",
    "    \n",
    "def generuj_liste(n, od, do=3):\n",
    "    \"\"\"WEJ: n - int > 0\n",
    "       WYJ: \"jest palindromem\" gdy wygenerowana lista jest palindromem\n",
    "            \"nie jest palindromem\" gdy nie jest\"\"\"\n",
    "    import random as r\n",
    "    \n",
    "    assert type(n) == int and n > 0\n",
    "    \n",
    "    for i in range(n):\n",
    "        result = []\n",
    "        elem = random.randint(od, do)\n",
    "        result.append(elem)\n",
    "        \n",
    "    if jest_pal(result):\n",
    "        print result, \"jest palindromem\"\n",
    "    else:\n",
    "        print result, \"nie jest palindromem\"\n",
    "\n",
    "\n",
    "def jest_pal_test():\n",
    "    L = [1, 2]\n",
    "    result = jest_pal(L)\n",
    "    print 'winno byc False:', result\n",
    "    L = [1, 2, 1]\n",
    "    result = jest_pal(L)\n",
    "    print 'winno byc True:', result"
   ]
  },
  {
   "cell_type": "markdown",
   "metadata": {},
   "source": [
    "Wykonaj testy powyższych funkcji. Mamy do wyboru dwie funkcje _wyższego rzędu_ \n",
    "\n",
    "* `generuj_liste` - drukuje losową listę i informację czy jest ona palindromem\n",
    "\n",
    "* `jest_pal_test` - szytwne testy użytkownika\n",
    "\n",
    "Proszę poprawić i przetestować [3 pkt] te funkcje. Poniżej np. w komentarzu podać numery linii, które musieli Państwo naprawiać. W ostatniej komórce wpisać/wkleić poprawiony program."
   ]
  },
  {
   "cell_type": "code",
   "execution_count": 10,
   "metadata": {
    "collapsed": true
   },
   "outputs": [],
   "source": [
    "### tutaj numery linii\n",
    "### Poprawilem linie: \n"
   ]
  },
  {
   "cell_type": "code",
   "execution_count": 11,
   "metadata": {
    "collapsed": true
   },
   "outputs": [],
   "source": [
    "### tutaj dobry program \n"
   ]
  },
  {
   "cell_type": "markdown",
   "metadata": {},
   "source": [
    "## Zadanie PD0104 [8 pkt]\n",
    "\n",
    "Dwie różne liczby całkowite `a` i `b` większe od `1` nazwiemy skojarzonymi, jeśli suma\n",
    "wszystkich różnych dodatnich dzielników `a` mniejszych od `a` jest równa `b + 1`, a suma\n",
    "wszystkich różnych dodatnich dzielników `b` mniejszych od `b` jest równa `a + 1`.\n",
    "Skojarzone są np. liczby `140` i `195`, ponieważ:\n",
    "\n",
    "* dzielnikami `140` są `1, 2, 4, 5, 7, 10, 14, 20, 28, 35, 70`, a ich suma wynosi\n",
    "  `196 = 195 + 1`.\n",
    "* dzielnikami `195` są `1, 3, 5, 13, 15, 39, 65`, a suma tych liczb równa jest `141 = 140 + 1`.\n",
    "\n",
    "#### 1. Zbadaj, które z następujących par liczb (a, b) są liczbami skojarzonymi [2 pkt]\n",
    "\n",
    "* (78, 64)\n",
    "\n",
    "* (20, 21)\n",
    "\n",
    "* (75, 48)"
   ]
  },
  {
   "cell_type": "code",
   "execution_count": 12,
   "metadata": {
    "collapsed": true
   },
   "outputs": [],
   "source": [
    "def czy_liczby_skojarzone(a, b):\n",
    "    '''...'''"
   ]
  },
  {
   "cell_type": "code",
   "execution_count": 13,
   "metadata": {
    "collapsed": true
   },
   "outputs": [],
   "source": [
    "# testy tutaj"
   ]
  },
  {
   "cell_type": "markdown",
   "metadata": {},
   "source": [
    "#### 2. Algorytm kojarzący liczby [4 pkt]\n",
    "\n",
    "Dana jest liczba całkowita `a` większa od `1`. Ułóż i zapisz w wybranej przez siebie notacji\n",
    "algorytm, który obliczy i wypisze liczbę `b` skojarzoną z `a` lub komunikat `'NIE'`, jeśli taka\n",
    "liczba nie istnieje.\n",
    "W zapisie algorytmu możesz korzystać tylko z następujących operacji arytmetycznych:\n",
    "dodawania, odejmowania, mnożenia, dzielenia całkowitego i obliczania reszty z dzielenia.\n",
    "\n",
    "_Uwaga_:\n",
    "Przy ocenie algorytmu będzie brana pod uwagę liczba operacji arytmetycznych\n",
    "wykonywanych przez Twój algorytm.\n",
    "\n",
    "_Specyfikacja_:\n",
    "\n",
    "* Dane: Liczba całkowita a > 1.\n",
    "\n",
    "* Wynik: Liczba całkowita b skojarzona z a lub komunikat `'NIE'`, jeśli taka liczba nie istnieje.\n"
   ]
  },
  {
   "cell_type": "code",
   "execution_count": 14,
   "metadata": {
    "collapsed": true
   },
   "outputs": [],
   "source": [
    "### Tutaj Algorytm\n",
    "\n"
   ]
  },
  {
   "cell_type": "markdown",
   "metadata": {},
   "source": [
    "#### 3. Zaimplementuj algorytm [2 pkt]"
   ]
  },
  {
   "cell_type": "code",
   "execution_count": 15,
   "metadata": {
    "collapsed": true
   },
   "outputs": [],
   "source": [
    "def znajdz_liczbe_skojarzona(a):\n",
    "    '''...'''"
   ]
  },
  {
   "cell_type": "code",
   "execution_count": 16,
   "metadata": {
    "collapsed": true
   },
   "outputs": [],
   "source": [
    "### tutaj testy"
   ]
  }
 ],
 "metadata": {
  "kernelspec": {
   "display_name": "Python 2",
   "language": "python",
   "name": "python2"
  },
  "language_info": {
   "codemirror_mode": {
    "name": "ipython",
    "version": 2
   },
   "file_extension": ".py",
   "mimetype": "text/x-python",
   "name": "python",
   "nbconvert_exporter": "python",
   "pygments_lexer": "ipython2",
   "version": "2.7.12"
  }
 },
 "nbformat": 4,
 "nbformat_minor": 1
}
