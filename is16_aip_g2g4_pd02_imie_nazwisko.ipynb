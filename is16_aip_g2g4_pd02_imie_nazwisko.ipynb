{
 "cells": [
  {
   "cell_type": "markdown",
   "metadata": {},
   "source": [
    "# Praca domowa 02 [30 punktów]\n",
    "\n",
    "Za każde zadanie domowe można uzyskać X punktów. W przypadku rozwiązania problemów nadprogramowych, o których nie mówiliśmy na zajęciach a ja ich Państwu nie tłumaczę tutaj można uzyskać punkty dodatkowe.\n",
    "\n",
    "> __Uwaga__: począwszy od tej pracy domowej\n",
    "\n",
    "> - odejmuję 1 punkt za brak każdego docstring-a (maksymalnie odejmuję 3 punkty)\n",
    "\n",
    "> - odejmuję 1 punkt za brak testów do zadania (maksymalnie odejmuję 3 punkty)\n",
    "\n",
    "> - maksymalnie odejmuję 3 punkty za niestosowanie się do reguł PEP8\n",
    "\n",
    "\n",
    "## Programowanie zorientowane obiektowo\n",
    "\n",
    "Samą ideę mam nadzieję Państwo pamiętają z zajęć. Tworzymy w ten sposób nowe struktury danych **oraz** metody do nich. \n",
    "\n",
    "## Zadanie PD0201 [8 pkt]\n",
    "\n",
    "Tradycyjnie - powtórka z zajęć. Proszę zbudować prostą klasę `Wektor`. Ma ona stworzyć strukturę danych opisującą [wektory na dwuwymiarowej płaszczyźnie](https://pl.wikipedia.org/wiki/Wektor). Klasa ma posiadać prostą funkcjonalność - podobną do tej, którą wprowadziliśmy na zajęciach. Do tego dojdzie jedna nowa funkcja.\n",
    "\n",
    "* obliczać moduł (długość) wektora (1 pkt)\n",
    "\n",
    "* obliczać kąt nachylenia względem osi odciętych OX (1 pkt)\n",
    "\n",
    "* obliczać kąt nachylenia względem osi rzędnych OY (1 pkt)\n",
    "\n",
    "* obliczać współrzędne wektora o przeciwnym zwrocie do obecnego (3 pkt)\n",
    "\n",
    "* proszę zaprogramować [funkcje specjalne](https://pl.python.org/docs/ref/node15.html) `__repr__` oraz `__str__` o których mówiliśmy na zajęciach (2 pkt)"
   ]
  },
  {
   "cell_type": "code",
   "execution_count": 11,
   "metadata": {
    "collapsed": false
   },
   "outputs": [],
   "source": [
    "class Wektor:\n",
    "    \"\"\"...\"\"\"\n",
    "    \n",
    "    def __init__(self, ax, ay, bx, by):\n",
    "        self.ax = ax\n",
    "        self.ay = ay\n",
    "        self.bx = bx\n",
    "        self.by = by\n",
    "    \n",
    "    def modul(self):\n",
    "        \"\"\"...\"\"\"\n",
    "    \n",
    "    def nachylenie_ox(self):\n",
    "        \"\"\"...\"\"\"\n",
    "    \n",
    "    def nachylenie_oy(self):\n",
    "        \"\"\"...\"\"\"\n",
    "    \n",
    "    def zwroc_wektor_przeciwny(self):\n",
    "        \"\"\"...\"\"\"\n",
    "    \n",
    "    def __repr__(self):\n",
    "        pass\n",
    "    \n",
    "    def __str__(self):\n",
    "        pass"
   ]
  },
  {
   "cell_type": "markdown",
   "metadata": {},
   "source": [
    "## Zadanie PD0202 [10 pkt]\n",
    "\n",
    "Proszę przepisać powyższą klasę, ale tak, by funkcja `__init__` jako argument posiadała listę punktów `[(ax, ay), (bx, by)]` definiujących wektor, a nie 4 osobne wartości (4 pkt). Reszta funkcjonalności ma być identyczna (6 pkt)."
   ]
  },
  {
   "cell_type": "code",
   "execution_count": 9,
   "metadata": {
    "collapsed": true
   },
   "outputs": [],
   "source": [
    "## kod pd0202 tutaj\n",
    "\n",
    "class Wektor:\n",
    "    \"\"\"...\"\"\"\n",
    "    \n",
    "    def __init__(self, w):\n",
    "        pass\n",
    "    \n",
    "    def modul(self):\n",
    "        pass\n",
    "    \n",
    "    def nachylenie_ox(self):\n",
    "        pass\n",
    "    \n",
    "    def nachylenie_oy(self):\n",
    "        pass\n",
    "    \n",
    "    def zwroc_wektor_przeciwny(self):\n",
    "        pass\n",
    "    \n",
    "    def __repr__(self):\n",
    "        pass\n",
    "    \n",
    "    def __str__(self):\n",
    "        pass"
   ]
  },
  {
   "cell_type": "markdown",
   "metadata": {},
   "source": [
    "## Zadanie PD0203 [12 pkt]\n",
    "\n",
    "Jeżeli w zadaniu PD0202 obliczanie długości zaprogramujecie rozsądnie, to w bardzo prosty sposób można klasę `Wektor` uogólnić na przypadek trójwymiarowy. Dojdzie nam oczywiście kolejna funkcja obliczająca kąt nachylenia względem osi OZ (koty)."
   ]
  },
  {
   "cell_type": "code",
   "execution_count": 10,
   "metadata": {
    "collapsed": true
   },
   "outputs": [],
   "source": [
    "## tutaj zadanie PD0203"
   ]
  },
  {
   "cell_type": "markdown",
   "metadata": {},
   "source": [
    "## Zadanie PD0204 [10 pkt] Przestawienia z klucza\n",
    "\n",
    "Parametrem podanej poniżej funkcji `przestaw` jest tablica `A` o długości `n`, indeksowana od `0`,\n",
    "w której znajdują się liczby całkowite. Niech klucz będzie wartością pierwszego elementu\n",
    "tablicy `A`. Funkcja przestawia (zamienia wzajemnie) elementy tablicy `A` tak, aby po jej\n",
    "wykonaniu w lewej części tablicy były wszystkie elementy tablicy mniejsze od `klucza`,\n",
    "natomiast w prawej części – wszystkie większe lub równe `kluczowi`.\n",
    "\n",
    "> __Specyfikacja__\n",
    "\n",
    "> Dane:\n",
    "\n",
    "> * n: liczba całkowita dodatnia\n",
    "\n",
    "> * A[0..n-1]: tablica liczb całkowitych\n",
    "\n",
    "> __Wynik__\n",
    "\n",
    "> * A[0..n-1]: tablica liczb całkowitych ułożona według podanej reguły\n",
    "\n",
    "```\n",
    "funkcja przestaw(A)\n",
    "    klucz ← A[1] \n",
    "    w ← 1\n",
    "    dla k = 2,3,...,n wykonaj\n",
    "        jeśli A[k]<klucz\n",
    "            zamień(A[w],A[k])\n",
    "            w ← w+1\n",
    "```\n",
    "\n",
    "__Uwaga:__\n",
    "Funkcja `zamień(x,y)` zamienia wzajemnie wartości zmiennych x i y - w powyższym\n",
    "przypadku zamienia wzajemnie dwa elementy tablicy A.\n",
    "\n",
    "### PD0204a (2 pkt)\n",
    "Dana jest liczba `n = 6` oraz tablica `A = [4,6,3,5,2,1]`. Podaj kolejność elementów w tablicy `A` po wykonaniu funkcji `przestaw(A)`."
   ]
  },
  {
   "cell_type": "code",
   "execution_count": 13,
   "metadata": {
    "collapsed": true
   },
   "outputs": [],
   "source": [
    "## pd2004a"
   ]
  },
  {
   "cell_type": "markdown",
   "metadata": {},
   "source": [
    "### PD0204b (3 pkt)\n",
    "Podaj przykład siedmioelementowej tablicy `A`, dla której funkcja `przestaw(A)` dokładnie `5` razy wykona funkcję `zamień`."
   ]
  },
  {
   "cell_type": "code",
   "execution_count": 14,
   "metadata": {
    "collapsed": true
   },
   "outputs": [],
   "source": [
    "# pd0204b"
   ]
  },
  {
   "cell_type": "markdown",
   "metadata": {},
   "source": [
    "### PD0204c (5 pkt)\n",
    "Tablica `A[1..100]` zawiera wszystkie liczby całkowite z przedziału `<1, 100>` w następującej kolejności:\n",
    "\n",
    "`A = [10, 20, 30, ..., 100, 9, 19, 29, ..., 99, 8, 18, 28, ..., 98, ...., 1, 11, 21, ..., 91]`\n",
    "\n",
    "(najpierw rosnąco wszystkie liczby kończące się na 0, potem rosnąco liczby kończące się\n",
    "na 9, potem na 8 itd.)\n",
    "\n",
    "Zastosuj funkcję `przestaw(A)` na tej tablicy."
   ]
  },
  {
   "cell_type": "code",
   "execution_count": 15,
   "metadata": {
    "collapsed": true
   },
   "outputs": [],
   "source": [
    "# pd0204c"
   ]
  },
  {
   "cell_type": "code",
   "execution_count": null,
   "metadata": {
    "collapsed": true
   },
   "outputs": [],
   "source": []
  }
 ],
 "metadata": {
  "kernelspec": {
   "display_name": "Python 2",
   "language": "python",
   "name": "python2"
  },
  "language_info": {
   "codemirror_mode": {
    "name": "ipython",
    "version": 2
   },
   "file_extension": ".py",
   "mimetype": "text/x-python",
   "name": "python",
   "nbconvert_exporter": "python",
   "pygments_lexer": "ipython2",
   "version": "2.7.12"
  }
 },
 "nbformat": 4,
 "nbformat_minor": 1
}
