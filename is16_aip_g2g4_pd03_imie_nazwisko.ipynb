{
 "cells": [
  {
   "cell_type": "markdown",
   "metadata": {},
   "source": [
    "# Praca domowa 03 [50 punktów]\n",
    "\n",
    "Za każde zadanie domowe można uzyskać X punktów. W przypadku rozwiązania problemów nadprogramowych, o których nie mówiliśmy na zajęciach a ja ich Państwu nie tłumaczę tutaj można uzyskać punkty dodatkowe.\n",
    "\n",
    "> __Uwaga__:\n",
    "\n",
    "> - odejmuję 1 punkt za brak każdego docstring-a (maksymalnie odejmuję 3 punkty)\n",
    "\n",
    "> - odejmuję 1 punkt za brak testów do zadania (maksymalnie odejmuję 3 punkty)\n",
    "\n",
    "> - maksymalnie odejmuję 3 punkty za niestosowanie się do reguł PEP8\n",
    "\n",
    "\n",
    "## Programowanie zorientowane obiektowo, część 2: funkcje z parametrami, interakcja między obiektami\n",
    "\n",
    "## Zadanie PD0301 [20 pkt]\n",
    "\n",
    "Tradycyjnie - powtórka z zajęć z dodatkami. Proszę rozbudować klasę `Wektor` o następującą funkcjonalność. Jedyną zmianą w stosunku do zajęć będzie to, że muszą Państwo wykorzystać wersję z zadania PD0202, czyli gdy klasę `Wektor` budujemy za pomocą pojedynczej listy.\n",
    "\n",
    "```\n",
    ">>> w = Wektor([(0, 0), (1, 1)])\n",
    "```\n",
    "\n",
    "### kopia z PD0202\n",
    "\n",
    "Proszę zacząć od kopii klasy `Wektor` z poprzedniej PD\n",
    "\n",
    "* obliczanie modułu (długość) wektora\n",
    "\n",
    "* obliczanie kąta nachylenia $\\alpha$ względem osi odciętych OX\n",
    "\n",
    "* obliczanie kąta nachylenia $\\beta$ względem osi rzędnych OY\n",
    "\n",
    "* obliczanie współrzędnych wektora o przeciwnym zwrocie do obecnego -> ta funkcja ma zwracać NOWY OBIEKT Wektor!\n",
    "\n",
    "* proszę zaprogramować [funkcje specjalne](https://pl.python.org/docs/ref/node15.html) `__repr__` oraz `__str__` o których mówiliśmy na zajęciach\n",
    "\n",
    "### Własności z lab\n",
    "\n",
    "* obrót o zadany kąt $\\gamma$ (modyfikuje stan obiektu) (1 pkt)\n",
    "\n",
    "* translacja (przesunięcie) - proszę rozbić na podproblemy przesunięcia względem OX i OY (osobne funkcje),  (modyfikuje stan obiektu) (1 pkt)\n",
    "\n",
    "* dodawanie 2 wektorów (zwraca nowy obiekt o typie Wektor) (1 pkt)\n",
    "\n",
    "* odejmowanie 2 wektorów (zwraca nowy obiekt o typie Wektor) (1 pkt)\n",
    "\n",
    "### Nowe własności\n",
    "\n",
    "* funkcja `get_wektor` zwracająca obiekt (1 pkt)\n",
    "\n",
    "* funkcja `set_wektor` umożliwiająca modyfikację stanu wektora (punktów początkowego i końcowego) (2 pkt)\n",
    "\n",
    "* rzut wektora na OX (zwraca nowy obiekt o typie Wektor) (1 pkt)\n",
    "\n",
    "* rzut wektora na OY (zwraca nowy obiekt o typie Wektor) (1 pkt)\n",
    "\n",
    "* [mnożenie wektora przez skalar](https://pl.wikipedia.org/wiki/Mno%C5%BCenie_przez_skalar) (zwraca nowy obiekt o typie Wektor) (2 pkt) \n",
    "\n",
    "* [iloczyn skalarny dwóch wektorów](https://pl.wikipedia.org/wiki/Iloczyn_skalarny) (zwraca liczbę) (2 pkt)\n",
    "\n",
    "* odbicie wektora względem osi OX (zwraca nowy obiekt o typie Wektor) (2 pkt)\n",
    "\n",
    "* odbicie wektora względem osi OY (zwraca nowy obiekt o typie Wektor) (2 pkt)\n",
    "\n",
    "* skalowanie wektora z zachowaniem punktu przyłożenia (modyfikuje stan obiektu) (2 pkt)\n",
    "\n",
    "* funkcja przesuwająca wektor do początku układu współrzędnych (modyfikuje stan obiektu) (1 pkt)"
   ]
  },
  {
   "cell_type": "code",
   "execution_count": 1,
   "metadata": {
    "collapsed": true
   },
   "outputs": [],
   "source": [
    "# pd0301"
   ]
  },
  {
   "cell_type": "code",
   "execution_count": 2,
   "metadata": {
    "collapsed": true
   },
   "outputs": [],
   "source": [
    "# testy pd0301"
   ]
  },
  {
   "cell_type": "markdown",
   "metadata": {},
   "source": [
    "## Zadanie PD0302 [10 pkt] Klasa Rakieta \n",
    "\n",
    "Proszę zakodować klasę od zabawy rakietami. Klasa Rakieta opisuje rakiety w przestrzeni 2D. \n",
    "```\n",
    ">>> r1 = Rakieta((3, 3))\n",
    ">>> r2 = Rakieta()\n",
    "```\n",
    "\n",
    "* (1 pkt) `__init__(self, start=(0, 0))`; \n",
    "    start - parametr ustawiający rakietę w przestrzeni 2D w podanym punkcie (i, j) domyślnie i = j = 0 (jak wyżej)\n",
    "\n",
    "* (1 pkt) `get_position` - pobiera obecną pozycję rakiety\n",
    "\n",
    "* (1 pkt) `move_up` - przesuwa góra/dół\n",
    "\n",
    "* (1 pkt) `move_side` - przesuwa prawo/lewo\n",
    "\n",
    "* (1 pkt) `move` - przesuwa rakietę w dowolnym kierunku (np: o wektor r)\n",
    "\n",
    "* (1 pkt) `__str__`, `__repr__` - zaprogramować tak, by zwracały ładny opis rakiety\n",
    "\n",
    "* (1 pkt) `distance` - funkcja obliczająca odległość danej rakiety (self) od jakiejś innej (other)\n",
    "\n",
    "* (1 pkt) `land_rocket` - funkcja powodująca, że rakieta ląduje\n",
    "\n",
    "* (1 pkt) dowolna dodatkowa funkcjonalność\n",
    "\n",
    "* (1 pkt) dowolna inna dodatkowa funkcjonalność"
   ]
  },
  {
   "cell_type": "code",
   "execution_count": 3,
   "metadata": {
    "collapsed": true
   },
   "outputs": [],
   "source": [
    "# pd0302"
   ]
  },
  {
   "cell_type": "code",
   "execution_count": 4,
   "metadata": {
    "collapsed": true
   },
   "outputs": [],
   "source": [
    "# testy pd0302"
   ]
  },
  {
   "cell_type": "markdown",
   "metadata": {},
   "source": [
    "## Zadanie PD0303 [10 pkt] Prostokąt\n",
    "\n",
    "Napisz klasę Prostokat. Wiadomo - trzeba zaprogramować wszystkie możliwe funkcje związane z prostokątem, takie jak poniżej (można i inne - nie zabraniam). Jako warunek uzyskania maksymalnej liczby punktów jest wykorzystanie słownika (typu `dict`) do przechowywania informacji o obiekcie. Tzn: zaprogramowanie funkcji `__init__` za pomocą pól `self.a` oraz `self.b` i wykorzystanie tych zmiennych w dalszych obliczeniach __nie da państwu maksymalnej ilości punktów__. Proszę wykorzystać słownik.\n",
    "\n",
    "* (1 lub 3 pkt) `__init__(self, a, b)`\n",
    "\n",
    "* (1 pkt) pole\n",
    "\n",
    "* (1 pkt) obwód\n",
    "\n",
    "* (1 pkt) przekątna\n",
    "\n",
    "* (1 pkt) obliczające kąty\n",
    "\n",
    "* (po 1 pkt) `__str__`, `__lt__`, `__eq__`\n",
    "\n"
   ]
  },
  {
   "cell_type": "code",
   "execution_count": 5,
   "metadata": {
    "collapsed": true
   },
   "outputs": [],
   "source": [
    "# pd0303"
   ]
  },
  {
   "cell_type": "code",
   "execution_count": 6,
   "metadata": {
    "collapsed": true
   },
   "outputs": [],
   "source": [
    "# testy pd0303"
   ]
  },
  {
   "cell_type": "markdown",
   "metadata": {},
   "source": [
    "## Zadanie PD0304 [10 pkt] \n",
    "\n",
    "W kartezjańskim układzie współrzędnych na płaszczyźnie narysowano kwadrat o boku\n",
    "długości 400 i środku symetrii w punkcie (200;200). Boki kwadratu są równoległe do osi\n",
    "układu współrzędnych. W kwadrat wpisano koło. \n",
    "\n",
    "\n",
    "### PD0304 a) (2 pkt)\n",
    "Wylosuj 10 000 punktów należących do kwadratu. Współrzędne (x,y) punktów zapisz w pliku\n",
    "`punkty.txt`, każdy punkt w osobnym wierszu. Wiersz ma mieć postać dwóch liczb całkowitych\n",
    "z zakresu <0;400>, rozdzielonych pojedynczym znakiem odstępu."
   ]
  },
  {
   "cell_type": "code",
   "execution_count": 7,
   "metadata": {
    "collapsed": true
   },
   "outputs": [],
   "source": [
    "# pd0304a"
   ]
  },
  {
   "cell_type": "markdown",
   "metadata": {},
   "source": [
    "### PD0304 b) (2 pkt)\n",
    "\n",
    "Napisz funkcję zwracającą współrzędne tych punktów, które należą do brzegu koła (okręgu), oraz zwracającą liczbę\n",
    "punktów należących do wnętrza koła (brzeg koła nie należy do wnętrza koła).\n",
    "\n",
    "__Wskazówka:__\n",
    "\n",
    "Równanie okręgu o środku w punkcie $S = (a, b)$ i promieniu $r > 0$ ma postać\n",
    "\n",
    "$$(x - a)^2 + (y - b)^2 = r^2$$\n"
   ]
  },
  {
   "cell_type": "code",
   "execution_count": 8,
   "metadata": {
    "collapsed": true
   },
   "outputs": [],
   "source": [
    "# pd0304b"
   ]
  },
  {
   "cell_type": "markdown",
   "metadata": {},
   "source": [
    "### PD0304 c) (3 pkt)\n",
    "Przy założeniu równomiernego rozkładu punktów w kwadracie, stosunek liczby punktów `nk`\n",
    "należących do koła do liczby punktów `n` należących do kwadratu jest w przybliżeniu równy\n",
    "stosunkowi pola koła `Pk` do pola kwadratu `P`:\n",
    "\n",
    "$$\\frac{nk}{n} \\simeq \\frac{Pk}{P}$$\n",
    "\n",
    "Oczywiście\n",
    "\n",
    "$$Pk = \\pi r^2$$\n",
    "\n",
    "Wyznacz przybliżoną wartość liczby PI, biorąc pod uwagę tylko część punktów z pliku `punkty.txt`. Weż po kolei pierwszych `N = 100, 500, 1000, 1500, ..., 10 000` punktów. Wyniki zaokrąglij do 4 miejsc po przecinku. Narysuj wykres wartości obliczonego przybliżenia liczby `PI` od `N`. Zadbaj o czytelność wykresu."
   ]
  },
  {
   "cell_type": "code",
   "execution_count": 9,
   "metadata": {
    "collapsed": true
   },
   "outputs": [],
   "source": [
    "# pd0304c"
   ]
  },
  {
   "cell_type": "markdown",
   "metadata": {},
   "source": [
    "### PD0304 d) (3 pkt)\n",
    "\n",
    "Błąd bezwzględny przybliżonej wartości liczby $\\pi$, wyznaczonej z `N` punktów, definiujemy\n",
    "następująco:\n",
    "\n",
    "$$\\varepsilon_N = |\\pi - PI_N|$$\n",
    "\n",
    "gdzie\n",
    "\n",
    "* $\\pi$ to wartość liczby pi, będąca wynikiem standardowej funkcji np: z `math`\n",
    "\n",
    "* `PI_N` to przybliżona wartość liczby pi wyznaczona z N kolejnych punktów,\n",
    "    poczynając od pierwszego punktu z pliku punkty.txt,\n",
    "    np. PI_1000 to liczba wyznaczona z pierwszego tysiąca punktów.\n",
    "    \n",
    "Oblicz $\\varepsilon_N$ dla `N = 100, 500, 1000, ..., 10 000`. Na podstawie powyższego zestawienia utwórz wykres ilustrujący zmiany dokładności wyznaczanej liczby pi. Zadbaj o czytelność wykresu."
   ]
  },
  {
   "cell_type": "code",
   "execution_count": 10,
   "metadata": {
    "collapsed": true
   },
   "outputs": [],
   "source": [
    "# pd0304d"
   ]
  },
  {
   "cell_type": "code",
   "execution_count": null,
   "metadata": {
    "collapsed": true
   },
   "outputs": [],
   "source": []
  }
 ],
 "metadata": {
  "kernelspec": {
   "display_name": "Python 2",
   "language": "python",
   "name": "python2"
  },
  "language_info": {
   "codemirror_mode": {
    "name": "ipython",
    "version": 2
   },
   "file_extension": ".py",
   "mimetype": "text/x-python",
   "name": "python",
   "nbconvert_exporter": "python",
   "pygments_lexer": "ipython2",
   "version": "2.7.12"
  }
 },
 "nbformat": 4,
 "nbformat_minor": 1
}
