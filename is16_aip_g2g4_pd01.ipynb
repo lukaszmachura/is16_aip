{
 "cells": [
  {
   "cell_type": "markdown",
   "metadata": {},
   "source": [
    "# Praca domowa 01\n",
    "\n",
    "## Zadanie 1\n",
    "### Koszt programu\n",
    "\n",
    "Jest to powtórka z lekcji. Zadanie podzielone jest na kilka podpunktów. W pierwszym należy napisać 3 programy. W drugim przetestować je. Następnie obliczyć czas ich wykonania dla różnych danych wejściowych. Ostatni to narysowanie wykresów czasu wykonania w funkcji danych.\n",
    "\n",
    "Problem:\n",
    "Mamy dany ciąg liczbowy dodatnich liczb nieparzystych\n",
    "$$1, 3, 5, 7, 9, \\dots$$\n",
    "\n",
    "1) Napisz programy obliczające sumę częściową podanego ciągu za pomocą\n",
    "\n",
    "  a) metody siłowej z wykorzystaniem pętli while\n",
    "\n",
    "  b) metody siłowej z wykorzystaniem pętli for\n",
    "\n",
    "  c) korzystając z wzoru na sumę częśiową https://pl.wikipedia.org/wiki/Ci%C4%85g_arytmetyczny"
   ]
  },
  {
   "cell_type": "code",
   "execution_count": 2,
   "metadata": {
    "collapsed": true
   },
   "outputs": [],
   "source": [
    "def pd01_zad01_1a(N):\n",
    "    \"Suma czesciowa ciagu z petla while\"\n",
    "    # tutaj kod\n",
    "    \n",
    "    \n",
    "def pd01_zad01_1b(N):\n",
    "    \"Suma czesciowa ciagu z petla for\"\n",
    "    # tutaj kod\n",
    "    \n",
    "    \n",
    "def pd01_zad01_1c(N):\n",
    "    \"Suma czesciowa ciagu z wykorzystaniem wzoru\"\n",
    "    # tutaj kod\n",
    "    \n",
    "    "
   ]
  },
  {
   "cell_type": "code",
   "execution_count": null,
   "metadata": {
    "collapsed": true
   },
   "outputs": [],
   "source": []
  }
 ],
 "metadata": {
  "kernelspec": {
   "display_name": "Python 2",
   "language": "python",
   "name": "python2"
  },
  "language_info": {
   "codemirror_mode": {
    "name": "ipython",
    "version": 2
   },
   "file_extension": ".py",
   "mimetype": "text/x-python",
   "name": "python",
   "nbconvert_exporter": "python",
   "pygments_lexer": "ipython2",
   "version": "2.7.12"
  }
 },
 "nbformat": 4,
 "nbformat_minor": 1
}
